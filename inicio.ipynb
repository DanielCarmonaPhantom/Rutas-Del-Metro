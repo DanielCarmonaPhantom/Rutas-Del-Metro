{
 "cells": [
  {
   "cell_type": "code",
   "execution_count": 74,
   "metadata": {},
   "outputs": [],
   "source": [
    "import pandas as pd\n",
    "import matplotlib.pyplot as plt"
   ]
  },
  {
   "cell_type": "code",
   "execution_count": 75,
   "metadata": {},
   "outputs": [],
   "source": [
    "datos = pd.read_csv('metro - Hoja 1.csv')"
   ]
  },
  {
   "cell_type": "code",
   "execution_count": 76,
   "metadata": {},
   "outputs": [],
   "source": [
    "coordenadas = datos['Coordenadas'].str.split(',', expand=True)"
   ]
  },
  {
   "cell_type": "code",
   "execution_count": 77,
   "metadata": {},
   "outputs": [],
   "source": [
    "df_new = pd.concat([datos, coordenadas] , axis=1)"
   ]
  },
  {
   "cell_type": "code",
   "execution_count": 78,
   "metadata": {},
   "outputs": [],
   "source": [
    "df_new[0] = df_new[0].astype(float)\n",
    "df_new[1] = df_new[1].astype(float)"
   ]
  },
  {
   "cell_type": "code",
   "execution_count": 79,
   "metadata": {},
   "outputs": [],
   "source": [
    "def obtener_linea(linea):\n",
    "    plt.axis('off')\n",
    "    x = df_new[df_new['Linea'] == linea][1]\n",
    "    y = df_new[df_new['Linea'] == linea][0]\n",
    "    color = df_new[df_new['Linea'] == linea]['Color'].iloc[0]\n",
    "    return plt.plot(x, y, color=color)\n"
   ]
  },
  {
   "cell_type": "code",
   "execution_count": 80,
   "metadata": {},
   "outputs": [
    {
     "data": {
      "image/png": "[encoded data removed]",
      "text/plain": [
       "<Figure size 432x288 with 1 Axes>"
      ]
     },
     "metadata": {
      "needs_background": "light"
     },
     "output_type": "display_data"
    }
   ],
   "source": [
    "obtener_linea('B')\n",
    "obtener_linea('1')\n",
    "obtener_linea('2');"
   ]
  },
  {
   "cell_type": "markdown",
   "metadata": {},
   "source": [
    "## Sacar Distancias"
   ]
  },
  {
   "cell_type": "code",
   "execution_count": 81,
   "metadata": {},
   "outputs": [
    {
     "data": {
      "text/html": [
       "<div>\n",
       "<style scoped>\n",
       "    .dataframe tbody tr th:only-of-type {\n",
       "        vertical-align: middle;\n",
       "    }\n",
       "\n",
       "    .dataframe tbody tr th {\n",
       "        vertical-align: top;\n",
       "    }\n",
       "\n",
       "    .dataframe thead th {\n",
       "        text-align: right;\n",
       "    }\n",
       "</style>\n",
       "<table border=\"1\" class=\"dataframe\">\n",
       "  <thead>\n",
       "    <tr style=\"text-align: right;\">\n",
       "      <th></th>\n",
       "      <th>Estacion</th>\n",
       "      <th>Linea</th>\n",
       "      <th>0</th>\n",
       "      <th>1</th>\n",
       "    </tr>\n",
       "  </thead>\n",
       "  <tbody>\n",
       "    <tr>\n",
       "      <th>0</th>\n",
       "      <td>Buenavista</td>\n",
       "      <td>B</td>\n",
       "      <td>19.446166</td>\n",
       "      <td>-99.152347</td>\n",
       "    </tr>\n",
       "    <tr>\n",
       "      <th>1</th>\n",
       "      <td>Guerrero</td>\n",
       "      <td>B</td>\n",
       "      <td>19.444746</td>\n",
       "      <td>-99.145190</td>\n",
       "    </tr>\n",
       "    <tr>\n",
       "      <th>2</th>\n",
       "      <td>Garibaldi</td>\n",
       "      <td>B</td>\n",
       "      <td>19.443751</td>\n",
       "      <td>-99.138552</td>\n",
       "    </tr>\n",
       "    <tr>\n",
       "      <th>3</th>\n",
       "      <td>Lagunilla</td>\n",
       "      <td>B</td>\n",
       "      <td>19.443373</td>\n",
       "      <td>-99.131806</td>\n",
       "    </tr>\n",
       "    <tr>\n",
       "      <th>4</th>\n",
       "      <td>Tepito</td>\n",
       "      <td>B</td>\n",
       "      <td>19.442820</td>\n",
       "      <td>-99.124111</td>\n",
       "    </tr>\n",
       "    <tr>\n",
       "      <th>...</th>\n",
       "      <td>...</td>\n",
       "      <td>...</td>\n",
       "      <td>...</td>\n",
       "      <td>...</td>\n",
       "    </tr>\n",
       "    <tr>\n",
       "      <th>190</th>\n",
       "      <td>Peñón Viejo</td>\n",
       "      <td>A</td>\n",
       "      <td>NaN</td>\n",
       "      <td>NaN</td>\n",
       "    </tr>\n",
       "    <tr>\n",
       "      <th>191</th>\n",
       "      <td>Acatitla</td>\n",
       "      <td>A</td>\n",
       "      <td>NaN</td>\n",
       "      <td>NaN</td>\n",
       "    </tr>\n",
       "    <tr>\n",
       "      <th>192</th>\n",
       "      <td>Santa Marta</td>\n",
       "      <td>A</td>\n",
       "      <td>NaN</td>\n",
       "      <td>NaN</td>\n",
       "    </tr>\n",
       "    <tr>\n",
       "      <th>193</th>\n",
       "      <td>Los Reyes</td>\n",
       "      <td>A</td>\n",
       "      <td>NaN</td>\n",
       "      <td>NaN</td>\n",
       "    </tr>\n",
       "    <tr>\n",
       "      <th>194</th>\n",
       "      <td>La Paz</td>\n",
       "      <td>A</td>\n",
       "      <td>NaN</td>\n",
       "      <td>NaN</td>\n",
       "    </tr>\n",
       "  </tbody>\n",
       "</table>\n",
       "<p>195 rows × 4 columns</p>\n",
       "</div>"
      ],
      "text/plain": [
       "        Estacion Linea          0          1\n",
       "0    Buenavista      B  19.446166 -99.152347\n",
       "1       Guerrero     B  19.444746 -99.145190\n",
       "2      Garibaldi     B  19.443751 -99.138552\n",
       "3      Lagunilla     B  19.443373 -99.131806\n",
       "4         Tepito     B  19.442820 -99.124111\n",
       "..           ...   ...        ...        ...\n",
       "190  Peñón Viejo     A        NaN        NaN\n",
       "191     Acatitla     A        NaN        NaN\n",
       "192  Santa Marta     A        NaN        NaN\n",
       "193    Los Reyes     A        NaN        NaN\n",
       "194       La Paz     A        NaN        NaN\n",
       "\n",
       "[195 rows x 4 columns]"
      ]
     },
     "execution_count": 81,
     "metadata": {},
     "output_type": "execute_result"
    }
   ],
   "source": [
    "df_new[['Estacion', 'Linea',0, 1]]"
   ]
  },
  {
   "cell_type": "code",
   "execution_count": 82,
   "metadata": {},
   "outputs": [
    {
     "data": {
      "text/html": [
       "<div>\n",
       "<style scoped>\n",
       "    .dataframe tbody tr th:only-of-type {\n",
       "        vertical-align: middle;\n",
       "    }\n",
       "\n",
       "    .dataframe tbody tr th {\n",
       "        vertical-align: top;\n",
       "    }\n",
       "\n",
       "    .dataframe thead th {\n",
       "        text-align: right;\n",
       "    }\n",
       "</style>\n",
       "<table border=\"1\" class=\"dataframe\">\n",
       "  <thead>\n",
       "    <tr style=\"text-align: right;\">\n",
       "      <th></th>\n",
       "      <th>Estacion</th>\n",
       "      <th>Linea</th>\n",
       "      <th>0</th>\n",
       "      <th>1</th>\n",
       "    </tr>\n",
       "  </thead>\n",
       "  <tbody>\n",
       "    <tr>\n",
       "      <th>0</th>\n",
       "      <td>Buenavista</td>\n",
       "      <td>B</td>\n",
       "      <td>19.446166</td>\n",
       "      <td>-99.152347</td>\n",
       "    </tr>\n",
       "    <tr>\n",
       "      <th>1</th>\n",
       "      <td>Guerrero</td>\n",
       "      <td>B</td>\n",
       "      <td>19.444746</td>\n",
       "      <td>-99.145190</td>\n",
       "    </tr>\n",
       "    <tr>\n",
       "      <th>2</th>\n",
       "      <td>Garibaldi</td>\n",
       "      <td>B</td>\n",
       "      <td>19.443751</td>\n",
       "      <td>-99.138552</td>\n",
       "    </tr>\n",
       "    <tr>\n",
       "      <th>3</th>\n",
       "      <td>Lagunilla</td>\n",
       "      <td>B</td>\n",
       "      <td>19.443373</td>\n",
       "      <td>-99.131806</td>\n",
       "    </tr>\n",
       "    <tr>\n",
       "      <th>4</th>\n",
       "      <td>Tepito</td>\n",
       "      <td>B</td>\n",
       "      <td>19.442820</td>\n",
       "      <td>-99.124111</td>\n",
       "    </tr>\n",
       "    <tr>\n",
       "      <th>...</th>\n",
       "      <td>...</td>\n",
       "      <td>...</td>\n",
       "      <td>...</td>\n",
       "      <td>...</td>\n",
       "    </tr>\n",
       "    <tr>\n",
       "      <th>190</th>\n",
       "      <td>Peñón Viejo</td>\n",
       "      <td>A</td>\n",
       "      <td>NaN</td>\n",
       "      <td>NaN</td>\n",
       "    </tr>\n",
       "    <tr>\n",
       "      <th>191</th>\n",
       "      <td>Acatitla</td>\n",
       "      <td>A</td>\n",
       "      <td>NaN</td>\n",
       "      <td>NaN</td>\n",
       "    </tr>\n",
       "    <tr>\n",
       "      <th>192</th>\n",
       "      <td>Santa Marta</td>\n",
       "      <td>A</td>\n",
       "      <td>NaN</td>\n",
       "      <td>NaN</td>\n",
       "    </tr>\n",
       "    <tr>\n",
       "      <th>193</th>\n",
       "      <td>Los Reyes</td>\n",
       "      <td>A</td>\n",
       "      <td>NaN</td>\n",
       "      <td>NaN</td>\n",
       "    </tr>\n",
       "    <tr>\n",
       "      <th>194</th>\n",
       "      <td>La Paz</td>\n",
       "      <td>A</td>\n",
       "      <td>NaN</td>\n",
       "      <td>NaN</td>\n",
       "    </tr>\n",
       "  </tbody>\n",
       "</table>\n",
       "<p>195 rows × 4 columns</p>\n",
       "</div>"
      ],
      "text/plain": [
       "        Estacion Linea          0          1\n",
       "0    Buenavista      B  19.446166 -99.152347\n",
       "1       Guerrero     B  19.444746 -99.145190\n",
       "2      Garibaldi     B  19.443751 -99.138552\n",
       "3      Lagunilla     B  19.443373 -99.131806\n",
       "4         Tepito     B  19.442820 -99.124111\n",
       "..           ...   ...        ...        ...\n",
       "190  Peñón Viejo     A        NaN        NaN\n",
       "191     Acatitla     A        NaN        NaN\n",
       "192  Santa Marta     A        NaN        NaN\n",
       "193    Los Reyes     A        NaN        NaN\n",
       "194       La Paz     A        NaN        NaN\n",
       "\n",
       "[195 rows x 4 columns]"
      ]
     },
     "execution_count": 82,
     "metadata": {},
     "output_type": "execute_result"
    }
   ],
   "source": [
    "data_distancias = df_new[['Estacion', 'Linea',0, 1]]\n",
    "data_distancias"
   ]
  },
  {
   "cell_type": "code",
   "execution_count": 83,
   "metadata": {},
   "outputs": [],
   "source": [
    "from scipy.spatial import distance"
   ]
  },
  {
   "cell_type": "code",
   "execution_count": 84,
   "metadata": {},
   "outputs": [],
   "source": [
    "estaciones_linea_1 = data_distancias[data_distancias['Linea']== '1']['Estacion'].values"
   ]
  },
  {
   "cell_type": "code",
   "execution_count": 85,
   "metadata": {},
   "outputs": [
    {
     "data": {
      "text/plain": [
       "array(['Observatorio', 'Tacubaya', 'Juanacatlán', 'Chapultepec',\n",
       "       'Sevilla', 'Insurgentes', 'Cuauhtémoc', 'Balderas',\n",
       "       'Salto del Agua', 'Isabel la Católica', 'Pino Suárez', 'Merced',\n",
       "       'Candelaria', 'San Lázaro', 'Moctezuma', 'Balbuena',\n",
       "       'Boulevard Puerto Aéreo', 'Gómez Farías', 'Zaragoza', 'Pantitlán'],\n",
       "      dtype=object)"
      ]
     },
     "execution_count": 85,
     "metadata": {},
     "output_type": "execute_result"
    }
   ],
   "source": [
    "estaciones_linea_1"
   ]
  },
  {
   "cell_type": "code",
   "execution_count": null,
   "metadata": {},
   "outputs": [],
   "source": []
  },
  {
   "cell_type": "code",
   "execution_count": 86,
   "metadata": {},
   "outputs": [
    {
     "data": {
      "text/html": [
       "<div>\n",
       "<style scoped>\n",
       "    .dataframe tbody tr th:only-of-type {\n",
       "        vertical-align: middle;\n",
       "    }\n",
       "\n",
       "    .dataframe tbody tr th {\n",
       "        vertical-align: top;\n",
       "    }\n",
       "\n",
       "    .dataframe thead th {\n",
       "        text-align: right;\n",
       "    }\n",
       "</style>\n",
       "<table border=\"1\" class=\"dataframe\">\n",
       "  <thead>\n",
       "    <tr style=\"text-align: right;\">\n",
       "      <th></th>\n",
       "      <th>Origen</th>\n",
       "      <th>Destino</th>\n",
       "      <th>Distancia</th>\n",
       "    </tr>\n",
       "  </thead>\n",
       "  <tbody>\n",
       "    <tr>\n",
       "      <th>0</th>\n",
       "      <td>Observatorio</td>\n",
       "      <td>Tacubaya</td>\n",
       "      <td>0.013433</td>\n",
       "    </tr>\n",
       "    <tr>\n",
       "      <th>1</th>\n",
       "      <td>Tacubaya</td>\n",
       "      <td>Juanacatlán</td>\n",
       "      <td>0.012236</td>\n",
       "    </tr>\n",
       "    <tr>\n",
       "      <th>2</th>\n",
       "      <td>Juanacatlán</td>\n",
       "      <td>Chapultepec</td>\n",
       "      <td>0.009212</td>\n",
       "    </tr>\n",
       "    <tr>\n",
       "      <th>3</th>\n",
       "      <td>Chapultepec</td>\n",
       "      <td>Sevilla</td>\n",
       "      <td>0.005946</td>\n",
       "    </tr>\n",
       "    <tr>\n",
       "      <th>4</th>\n",
       "      <td>Sevilla</td>\n",
       "      <td>Insurgentes</td>\n",
       "      <td>0.008023</td>\n",
       "    </tr>\n",
       "    <tr>\n",
       "      <th>5</th>\n",
       "      <td>Insurgentes</td>\n",
       "      <td>Cuauhtémoc</td>\n",
       "      <td>0.008860</td>\n",
       "    </tr>\n",
       "    <tr>\n",
       "      <th>6</th>\n",
       "      <td>Cuauhtémoc</td>\n",
       "      <td>Balderas</td>\n",
       "      <td>0.006008</td>\n",
       "    </tr>\n",
       "    <tr>\n",
       "      <th>7</th>\n",
       "      <td>Balderas</td>\n",
       "      <td>Salto del Agua</td>\n",
       "      <td>0.006802</td>\n",
       "    </tr>\n",
       "    <tr>\n",
       "      <th>8</th>\n",
       "      <td>Salto del Agua</td>\n",
       "      <td>Isabel la Católica</td>\n",
       "      <td>0.004285</td>\n",
       "    </tr>\n",
       "    <tr>\n",
       "      <th>9</th>\n",
       "      <td>Isabel la Católica</td>\n",
       "      <td>Pino Suárez</td>\n",
       "      <td>0.004914</td>\n",
       "    </tr>\n",
       "    <tr>\n",
       "      <th>10</th>\n",
       "      <td>Pino Suárez</td>\n",
       "      <td>Merced</td>\n",
       "      <td>0.007794</td>\n",
       "    </tr>\n",
       "    <tr>\n",
       "      <th>11</th>\n",
       "      <td>Merced</td>\n",
       "      <td>Candelaria</td>\n",
       "      <td>0.005566</td>\n",
       "    </tr>\n",
       "    <tr>\n",
       "      <th>12</th>\n",
       "      <td>Candelaria</td>\n",
       "      <td>San Lázaro</td>\n",
       "      <td>0.007233</td>\n",
       "    </tr>\n",
       "    <tr>\n",
       "      <th>13</th>\n",
       "      <td>San Lázaro</td>\n",
       "      <td>Moctezuma</td>\n",
       "      <td>0.005426</td>\n",
       "    </tr>\n",
       "    <tr>\n",
       "      <th>14</th>\n",
       "      <td>Moctezuma</td>\n",
       "      <td>Balbuena</td>\n",
       "      <td>0.008601</td>\n",
       "    </tr>\n",
       "    <tr>\n",
       "      <th>15</th>\n",
       "      <td>Balbuena</td>\n",
       "      <td>Boulevard Puerto Aéreo</td>\n",
       "      <td>0.007118</td>\n",
       "    </tr>\n",
       "    <tr>\n",
       "      <th>16</th>\n",
       "      <td>Boulevard Puerto Aéreo</td>\n",
       "      <td>Gómez Farías</td>\n",
       "      <td>0.007313</td>\n",
       "    </tr>\n",
       "    <tr>\n",
       "      <th>17</th>\n",
       "      <td>Gómez Farías</td>\n",
       "      <td>Zaragoza</td>\n",
       "      <td>0.008676</td>\n",
       "    </tr>\n",
       "    <tr>\n",
       "      <th>18</th>\n",
       "      <td>Zaragoza</td>\n",
       "      <td>Pantitlán</td>\n",
       "      <td>0.008917</td>\n",
       "    </tr>\n",
       "  </tbody>\n",
       "</table>\n",
       "</div>"
      ],
      "text/plain": [
       "                    Origen                 Destino  Distancia\n",
       "0             Observatorio                Tacubaya   0.013433\n",
       "1                 Tacubaya             Juanacatlán   0.012236\n",
       "2              Juanacatlán             Chapultepec   0.009212\n",
       "3              Chapultepec                 Sevilla   0.005946\n",
       "4                  Sevilla             Insurgentes   0.008023\n",
       "5              Insurgentes              Cuauhtémoc   0.008860\n",
       "6               Cuauhtémoc                Balderas   0.006008\n",
       "7                 Balderas          Salto del Agua   0.006802\n",
       "8           Salto del Agua      Isabel la Católica   0.004285\n",
       "9       Isabel la Católica             Pino Suárez   0.004914\n",
       "10             Pino Suárez                  Merced   0.007794\n",
       "11                  Merced              Candelaria   0.005566\n",
       "12              Candelaria              San Lázaro   0.007233\n",
       "13              San Lázaro               Moctezuma   0.005426\n",
       "14               Moctezuma                Balbuena   0.008601\n",
       "15                Balbuena  Boulevard Puerto Aéreo   0.007118\n",
       "16  Boulevard Puerto Aéreo            Gómez Farías   0.007313\n",
       "17            Gómez Farías                Zaragoza   0.008676\n",
       "18                Zaragoza               Pantitlán   0.008917"
      ]
     },
     "execution_count": 86,
     "metadata": {},
     "output_type": "execute_result"
    }
   ],
   "source": [
    "estaciones_distancias_linea_1 = []\n",
    "origen_destino = {}\n",
    "\n",
    "for i in range(len(estaciones_linea_1)-1):\n",
    "    origen_destino['Origen'] = estaciones_linea_1[i]\n",
    "    origen_destino['Destino'] = estaciones_linea_1[i+1]\n",
    "    x1, y1 = data_distancias[data_distancias['Estacion']==estaciones_linea_1[i]][1].values[0],data_distancias[data_distancias['Estacion']==estaciones_linea_1[i]][0].values[0]\n",
    "    x2, y2 = data_distancias[data_distancias['Estacion']==estaciones_linea_1[i+1]][1].values[0],data_distancias[data_distancias['Estacion']==estaciones_linea_1[i+1]][0].values[0]\n",
    "\n",
    "    origen_destino['Distancia'] = distance.euclidean((x1, y1), (x2, y2))\n",
    "\n",
    "    estaciones_distancias_linea_1.append(origen_destino)\n",
    "    origen_destino = {}\n",
    "\n",
    "distancias = pd.DataFrame(estaciones_distancias_linea_1)\n",
    "distancias\n"
   ]
  },
  {
   "cell_type": "code",
   "execution_count": 87,
   "metadata": {},
   "outputs": [],
   "source": [
    "import networkx as nx"
   ]
  },
  {
   "cell_type": "code",
   "execution_count": 127,
   "metadata": {},
   "outputs": [],
   "source": [
    "def sacar_estaciones_destino(Origen, Destino):\n",
    "    df = pd.read_csv('Distancias - Hoja 1.csv')\n",
    "    df['Origen'] = df['Origen'].str.lower()\n",
    "    df['Destino'] = df['Destino'].str.lower()\n",
    "    METRO = nx.from_pandas_edgelist(df,source='Origen',target='Destino',edge_attr='Longitud')\n",
    "    djk_path= nx.dijkstra_path(METRO, source=Origen, target=Destino, weight='Longitud de interestación')\n",
    "    return(djk_path)"
   ]
  },
  {
   "cell_type": "code",
   "execution_count": 212,
   "metadata": {},
   "outputs": [],
   "source": [
    "def pintar_trayectoria(lista_estaciones):\n",
    "    lineas = obtener_datos()\n",
    "    for i in range(len(lista_estaciones)):\n",
    "        cantidad_transbordes = len(lineas[lineas['Estacion'] == lista_estaciones[i]][['Estacion','Linea']].values)\n",
    "        if cantidad_transbordes > 0:\n",
    "            transbordes = \", \".join(lineas[lineas['Estacion'] == lista_estaciones[i]]['Linea'].values)\n",
    "            print(f'* {lista_estaciones[i].title()}')\n",
    "            print(f'| Líneas: {transbordes}')\n",
    "            print(f'|')"
   ]
  },
  {
   "cell_type": "code",
   "execution_count": 177,
   "metadata": {},
   "outputs": [],
   "source": [
    "def obtener_datos():\n",
    "    datos = pd.read_csv('metro - Hoja 1.csv')\n",
    "    datos['Estacion'] = datos['Estacion'].str.lower()\n",
    "    return datos"
   ]
  },
  {
   "cell_type": "code",
   "execution_count": 178,
   "metadata": {},
   "outputs": [
    {
     "name": "stdout",
     "output_type": "stream",
     "text": [
      "['balbuena', 'moctezuma', 'san lázaro', 'candelaria', 'fray servando', 'jamaica', 'chabacano', 'lázaro cardenas', 'centro médico', 'etiopía/plaza de la transparencia', 'eugenia', 'división del norte', 'zapata', 'coyoacán', 'viveros/derechos humanos', 'miguel ángel de quevedo', 'copilco', 'universidad']\n"
     ]
    }
   ],
   "source": [
    "lista_estaciones = sacar_estaciones_destino('Balbuena'.lower(), 'Universidad'.lower())\n",
    "datos = obtener_datos()\n",
    "print(lista_estaciones)"
   ]
  },
  {
   "cell_type": "code",
   "execution_count": 213,
   "metadata": {},
   "outputs": [
    {
     "name": "stdout",
     "output_type": "stream",
     "text": [
      "* Balbuena\n",
      "| Líneas: 1\n",
      "|\n",
      "* Moctezuma\n",
      "| Líneas: 1\n",
      "|\n",
      "* San Lázaro\n",
      "| Líneas: 1\n",
      "|\n",
      "* Candelaria\n",
      "| Líneas: 1\n",
      "|\n",
      "* Fray Servando\n",
      "| Líneas: 4\n",
      "|\n",
      "* Jamaica\n",
      "| Líneas: 4, 9\n",
      "|\n",
      "* Chabacano\n",
      "| Líneas: 2, 8, 9\n",
      "|\n",
      "* Centro Médico\n",
      "| Líneas: 3, 9\n",
      "|\n",
      "* Etiopía/Plaza De La Transparencia\n",
      "| Líneas: 3\n",
      "|\n",
      "* Eugenia\n",
      "| Líneas: 3\n",
      "|\n",
      "* División Del Norte\n",
      "| Líneas: 3\n",
      "|\n",
      "* Zapata\n",
      "| Líneas: 3, 12\n",
      "|\n",
      "* Coyoacán\n",
      "| Líneas: 3\n",
      "|\n",
      "* Viveros/Derechos Humanos\n",
      "| Líneas: 3\n",
      "|\n",
      "* Miguel Ángel De Quevedo\n",
      "| Líneas: 3\n",
      "|\n",
      "* Copilco\n",
      "| Líneas: 3\n",
      "|\n",
      "* Universidad\n",
      "| Líneas: 3\n",
      "|\n"
     ]
    }
   ],
   "source": [
    "pintar_trayectoria(lista_estaciones)"
   ]
  },
  {
   "cell_type": "code",
   "execution_count": 215,
   "metadata": {},
   "outputs": [],
   "source": [
    "import time"
   ]
  },
  {
   "cell_type": "code",
   "execution_count": 219,
   "metadata": {},
   "outputs": [],
   "source": [
    "def obtener_datos_distancias():\n",
    "    df = pd.read_csv('Distancias - Hoja 1.csv')\n",
    "    df['Origen'] = df['Origen'].str.lower()\n",
    "    df['Destino'] = df['Destino'].str.lower()\n",
    "    return df"
   ]
  },
  {
   "cell_type": "code",
   "execution_count": 220,
   "metadata": {},
   "outputs": [
    {
     "data": {
      "text/html": [
       "<div>\n",
       "<style scoped>\n",
       "    .dataframe tbody tr th:only-of-type {\n",
       "        vertical-align: middle;\n",
       "    }\n",
       "\n",
       "    .dataframe tbody tr th {\n",
       "        vertical-align: top;\n",
       "    }\n",
       "\n",
       "    .dataframe thead th {\n",
       "        text-align: right;\n",
       "    }\n",
       "</style>\n",
       "<table border=\"1\" class=\"dataframe\">\n",
       "  <thead>\n",
       "    <tr style=\"text-align: right;\">\n",
       "      <th></th>\n",
       "      <th>Origen</th>\n",
       "      <th>Destino</th>\n",
       "      <th>Longitud</th>\n",
       "    </tr>\n",
       "  </thead>\n",
       "  <tbody>\n",
       "    <tr>\n",
       "      <th>0</th>\n",
       "      <td>pantitlán</td>\n",
       "      <td>zaragoza</td>\n",
       "      <td>1,32</td>\n",
       "    </tr>\n",
       "    <tr>\n",
       "      <th>1</th>\n",
       "      <td>zaragoza</td>\n",
       "      <td>gómez farías</td>\n",
       "      <td>762</td>\n",
       "    </tr>\n",
       "    <tr>\n",
       "      <th>2</th>\n",
       "      <td>gómez farías</td>\n",
       "      <td>boulevard puerto aéreo</td>\n",
       "      <td>611</td>\n",
       "    </tr>\n",
       "    <tr>\n",
       "      <th>3</th>\n",
       "      <td>boulevard puerto aéreo</td>\n",
       "      <td>balbuena</td>\n",
       "      <td>595</td>\n",
       "    </tr>\n",
       "    <tr>\n",
       "      <th>4</th>\n",
       "      <td>balbuena</td>\n",
       "      <td>moctezuma</td>\n",
       "      <td>703</td>\n",
       "    </tr>\n",
       "    <tr>\n",
       "      <th>...</th>\n",
       "      <td>...</td>\n",
       "      <td>...</td>\n",
       "      <td>...</td>\n",
       "    </tr>\n",
       "    <tr>\n",
       "      <th>178</th>\n",
       "      <td>eje central</td>\n",
       "      <td>parque de los venados</td>\n",
       "      <td>1,28</td>\n",
       "    </tr>\n",
       "    <tr>\n",
       "      <th>179</th>\n",
       "      <td>parque de los venados</td>\n",
       "      <td>zapata</td>\n",
       "      <td>563</td>\n",
       "    </tr>\n",
       "    <tr>\n",
       "      <th>180</th>\n",
       "      <td>zapata</td>\n",
       "      <td>hospital 20 de noviembre</td>\n",
       "      <td>450</td>\n",
       "    </tr>\n",
       "    <tr>\n",
       "      <th>181</th>\n",
       "      <td>hospital 20 de noviembre</td>\n",
       "      <td>insurgentes sur</td>\n",
       "      <td>725</td>\n",
       "    </tr>\n",
       "    <tr>\n",
       "      <th>182</th>\n",
       "      <td>insurgentes sur</td>\n",
       "      <td>mixcoac</td>\n",
       "      <td>651</td>\n",
       "    </tr>\n",
       "  </tbody>\n",
       "</table>\n",
       "<p>183 rows × 3 columns</p>\n",
       "</div>"
      ],
      "text/plain": [
       "                       Origen                   Destino Longitud\n",
       "0                   pantitlán                  zaragoza     1,32\n",
       "1                    zaragoza              gómez farías      762\n",
       "2                gómez farías    boulevard puerto aéreo      611\n",
       "3      boulevard puerto aéreo                  balbuena      595\n",
       "4                    balbuena                 moctezuma      703\n",
       "..                        ...                       ...      ...\n",
       "178               eje central     parque de los venados     1,28\n",
       "179     parque de los venados                    zapata      563\n",
       "180                    zapata  hospital 20 de noviembre      450\n",
       "181  hospital 20 de noviembre           insurgentes sur      725\n",
       "182           insurgentes sur                   mixcoac      651\n",
       "\n",
       "[183 rows x 3 columns]"
      ]
     },
     "execution_count": 220,
     "metadata": {},
     "output_type": "execute_result"
    }
   ],
   "source": [
    "obtener_datos_distancias()"
   ]
  },
  {
   "cell_type": "code",
   "execution_count": 218,
   "metadata": {},
   "outputs": [
    {
     "data": {
      "text/plain": [
       "['balbuena',\n",
       " 'moctezuma',\n",
       " 'san lázaro',\n",
       " 'candelaria',\n",
       " 'fray servando',\n",
       " 'jamaica',\n",
       " 'chabacano',\n",
       " 'lázaro cardenas',\n",
       " 'centro médico',\n",
       " 'etiopía/plaza de la transparencia',\n",
       " 'eugenia',\n",
       " 'división del norte',\n",
       " 'zapata',\n",
       " 'coyoacán',\n",
       " 'viveros/derechos humanos',\n",
       " 'miguel ángel de quevedo',\n",
       " 'copilco',\n",
       " 'universidad']"
      ]
     },
     "execution_count": 218,
     "metadata": {},
     "output_type": "execute_result"
    }
   ],
   "source": [
    "lista_estaciones"
   ]
  },
  {
   "cell_type": "code",
   "execution_count": 244,
   "metadata": {},
   "outputs": [],
   "source": [
    "from datetime import datetime, timedelta"
   ]
  },
  {
   "cell_type": "code",
   "execution_count": 274,
   "metadata": {},
   "outputs": [
    {
     "name": "stdout",
     "output_type": "stream",
     "text": [
      "33.5503937007874\n"
     ]
    }
   ],
   "source": [
    "df = obtener_datos_distancias()\n",
    "curr = datetime.now()\n",
    "\n",
    "distancia = []\n",
    "\n",
    "for i in range(len(lista_estaciones)-2):\n",
    "    distancia.append(int(df[((df['Origen'] == lista_estaciones[i])|(df['Origen'] == lista_estaciones[i+1])) & ((df['Origen'] == lista_estaciones[i])|(df['Origen'] == lista_estaciones[i+1]))]['Longitud'].values[0].replace(',','')))\n",
    "\n",
    "distancia_total = sum(distancia)\n",
    "minutos = (distancia_total * 60)/25400\n",
    "\n",
    "new_datetime = timedelta(minutes=minutos)\n",
    "\n",
    "lapso = curr + new_datetime\n",
    "\n",
    "print(minutos)\n"
   ]
  },
  {
   "cell_type": "code",
   "execution_count": null,
   "metadata": {},
   "outputs": [],
   "source": []
  }
 ],
 "metadata": {
  "interpreter": {
   "hash": "aee8b7b246df8f9039afb4144a1f6fd8d2ca17a180786b69acc140d282b71a49"
  },
  "kernelspec": {
   "display_name": "Python 3.9.0 64-bit",
   "language": "python",
   "name": "python3"
  },
  "language_info": {
   "codemirror_mode": {
    "name": "ipython",
    "version": 3
   },
   "file_extension": ".py",
   "mimetype": "text/x-python",
   "name": "python",
   "nbconvert_exporter": "python",
   "pygments_lexer": "ipython3",
   "version": "3.10.4"
  },
  "orig_nbformat": 4
 },
 "nbformat": 4,
 "nbformat_minor": 2
}
